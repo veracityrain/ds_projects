{
 "cells": [
  {
   "cell_type": "markdown",
   "metadata": {},
   "source": [
    "# Will I be able to graduate??\n",
    "\n",
    "With recent advancements in generative AI and the modern state-of-arts not taking any breaks in beating one another. It can be tough being a data science student, trying to keep up with the knowledge to prevent it from depreciating so much.\n",
    "\n",
    "Will I be able to graduate or will I drop out?? Well, let's build a model to find out!\n",
    "\n",
    "We will be using the UCI Machine Learning Repositry to extract dataset id 697, which contains the profiles of university students, like gender, admission grade, or even their mother's occupation, with the target variable of whether they are enrolled, graduated or dropped out.\n",
    "\n",
    "We will be using the supervised classification method XGBoost, which is going to also give us explainability on which features had higher impact/importance, and in the end, I will be entering my own data into the model to see if I can graduate this course or not!"
   ]
  },
  {
   "cell_type": "code",
   "execution_count": null,
   "metadata": {},
   "outputs": [],
   "source": [
    "# Import Packages\n",
    "\n",
    "from ucimlrepo import fetch_ucirepo\n",
    "import sklearn\n",
    "import seaborn as sns\n",
    "import pandas as pd\n",
    "from sklearn.preprocessing import StandardScaler\n",
    "from sklearn.model_selection import train_test_split\n",
    "import xgboost as xgb\n",
    "from matplotlib import pyplot as plt\n",
    "\n",
    "pd.set_option('display.max_rows',500)\n",
    "pd.set_option('display.max_columns',500)"
   ]
  },
  {
   "cell_type": "code",
   "execution_count": null,
   "metadata": {},
   "outputs": [],
   "source": [
    "# Extract Data\n",
    "\n",
    "base = fetch_ucirepo(id=697)\n",
    "X = base.data.features\n",
    "y = base.data.targets"
   ]
  },
  {
   "cell_type": "code",
   "execution_count": null,
   "metadata": {},
   "outputs": [],
   "source": [
    "# We are only interested in the target output of graduated and dropped out, label to int\n",
    "\n",
    "print(len(X),len(y))\n",
    "X = X.drop(y[y['Target']=='Enrolled'].index).copy()\n",
    "y = y.drop(y[y['Target']=='Enrolled'].index).copy()\n",
    "print(len(X),len(y))\n",
    "y = y.replace(['Graduate','Dropout'],[1,0]).astype('int')"
   ]
  },
  {
   "cell_type": "code",
   "execution_count": null,
   "metadata": {},
   "outputs": [],
   "source": [
    "# Check for missing values\n",
    "\n",
    "for col in X.columns:\n",
    "    if len(X[X[col].isna()==True]) != 0:\n",
    "        print(col)\n"
   ]
  },
  {
   "cell_type": "markdown",
   "metadata": {},
   "source": [
    "### Data Preprocessing"
   ]
  },
  {
   "cell_type": "code",
   "execution_count": null,
   "metadata": {},
   "outputs": [],
   "source": [
    "# Firstly let's find out discrete variables, hot encode variables, and normalise continuous variables\n",
    "\n",
    "discrete_var = ['Marital Status','Application mode','Course','Daytime/evening attendance',\n",
    "   'Previous qualification','Nacionality',\"Mother's qualification\", \"Father's qualification\",\n",
    "   \"Mother's occupation\",\"Father's occupation\",'Displaced','Educational special needs',\n",
    "'Debtor','Tuition fees up to date','Gender','Scholarship holder','International']\n",
    "\n",
    "X[discrete_var] = X[discrete_var].astype('str')\n",
    "continuous_var = list(set(X.columns).difference(set(discrete_var)))\n",
    "\n",
    "scale = StandardScaler()\n",
    "X[continuous_var] = scale.fit_transform(X[continuous_var])\n",
    "\n",
    "features = X[continuous_var].join(pd.get_dummies(X[['Marital Status','Application mode','Course','Daytime/evening attendance',\n",
    "   'Previous qualification','Nacionality',\"Mother's qualification\", \"Father's qualification\",\n",
    "   \"Mother's occupation\",\"Father's occupation\",'Displaced','Educational special needs',\n",
    "'Debtor','Tuition fees up to date','Gender','Scholarship holder','International']]))"
   ]
  },
  {
   "cell_type": "code",
   "execution_count": null,
   "metadata": {},
   "outputs": [],
   "source": [
    "# Train Test Split\n",
    "\n",
    "X_train,X_test,y_train,y_test = train_test_split(features, y,test_size = 0.2,random_state = 123)"
   ]
  },
  {
   "cell_type": "markdown",
   "metadata": {},
   "source": [
    "### Training XGB Model"
   ]
  },
  {
   "cell_type": "code",
   "execution_count": null,
   "metadata": {},
   "outputs": [],
   "source": [
    "xgb_classifier = xgb.XGBClassifier(n_estimators=1000, eta=0.1, max_depth=3)\n",
    "xgb_classifier.fit(X_train, y_train)"
   ]
  },
  {
   "cell_type": "code",
   "execution_count": null,
   "metadata": {},
   "outputs": [],
   "source": [
    "pred_train = xgb_classifier.predict(X_train)\n",
    "pred_test = xgb_classifier.predict(X_test)"
   ]
  },
  {
   "cell_type": "markdown",
   "metadata": {},
   "source": [
    "### Evaluation"
   ]
  },
  {
   "cell_type": "code",
   "execution_count": null,
   "metadata": {},
   "outputs": [],
   "source": [
    "def xgb_eval(y_train, pred_train,y_test, pred_test):\n",
    "    print('Train Evaluation')\n",
    "    confusion_matrix = sklearn.metrics.confusion_matrix(y_train, pred_train)\n",
    "    cm_display = sklearn.metrics.ConfusionMatrixDisplay(confusion_matrix = confusion_matrix, display_labels = [False, True])\n",
    "    print('Accuracy:',sklearn.metrics.accuracy_score(y_train, pred_train).round(2))\n",
    "    print('Precision:',sklearn.metrics.precision_score(y_train, pred_train).round(2))\n",
    "    print('Recall:',sklearn.metrics.recall_score(y_train, pred_train).round(2))\n",
    "    print('f1:',sklearn.metrics.f1_score(y_train, pred_train).round(2))\n",
    "    cm_display.plot()\n",
    "    plt.show()\n",
    "\n",
    "    print('Test Evaluation')\n",
    "    confusion_matrix = sklearn.metrics.confusion_matrix(y_test, pred_test)\n",
    "    cm_display = sklearn.metrics.ConfusionMatrixDisplay(confusion_matrix = confusion_matrix, display_labels = [False, True])\n",
    "    print('Accuracy:',sklearn.metrics.accuracy_score(y_test, pred_test).round(2))\n",
    "    print('Precision:',sklearn.metrics.precision_score(y_test, pred_test).round(2))\n",
    "    print('Recall:',sklearn.metrics.recall_score(y_test, pred_test).round(2))\n",
    "    print('f1:',sklearn.metrics.f1_score(y_test, pred_test).round(2))\n",
    "    cm_display.plot()\n",
    "    plt.show()\n",
    "\n",
    "    print('AUC Train:',sklearn.metrics.roc_auc_score(y_train, pred_train).round(2))\n",
    "    print('AUC Test:',sklearn.metrics.roc_auc_score(y_test, pred_test).round(2))\n",
    "    fpr1, tpr1, thresholds1 = sklearn.metrics.roc_curve(y_train, pred_train)\n",
    "    fpr2, tpr2, thresholds2 = sklearn.metrics.roc_curve(y_test, pred_test)\n",
    "    plt.plot(fpr1, tpr1)\n",
    "    plt.plot(fpr2, tpr2)\n",
    "    plt.show()"
   ]
  },
  {
   "cell_type": "code",
   "execution_count": null,
   "metadata": {},
   "outputs": [],
   "source": [
    "xgb_eval(y_train, pred_train,y_test, pred_test)"
   ]
  },
  {
   "cell_type": "markdown",
   "metadata": {},
   "source": [
    "### Simplify the model"
   ]
  },
  {
   "cell_type": "code",
   "execution_count": null,
   "metadata": {},
   "outputs": [],
   "source": [
    "sorted_idx = xgb_classifier.feature_importances_.argsort()\n",
    "plt.barh(X_train.columns[sorted_idx][-10:],xgb_classifier.feature_importances_[sorted_idx][-10:])\n",
    "plt.title('XGB Feature Importance')"
   ]
  },
  {
   "cell_type": "code",
   "execution_count": null,
   "metadata": {},
   "outputs": [],
   "source": [
    "newvar = ['Curricular units 2nd sem (approved)','Tuition fees up to date_0','Curricular units 2nd sem (enrolled)',\n",
    "   'Curricular units 1st sem (approved)','Scholarship holder_0','Debtor_0','Curricular units 1st sem (enrolled)',\n",
    "   'Gender_0','Course_9130']\n",
    "\n",
    "xgb_classifier2 = xgb.XGBClassifier(n_estimators=1000, eta=0.1, max_depth=3)\n",
    "xgb_classifier2.fit(X_train[newvar], y_train)\n",
    "\n",
    "pred_train2 = xgb_classifier2.predict(X_train[newvar])\n",
    "pred_test2 = xgb_classifier2.predict(X_test[newvar])"
   ]
  },
  {
   "cell_type": "code",
   "execution_count": null,
   "metadata": {},
   "outputs": [],
   "source": [
    "xgb_eval(y_train, pred_train2,y_test, pred_test2)"
   ]
  },
  {
   "cell_type": "code",
   "execution_count": null,
   "metadata": {},
   "outputs": [],
   "source": []
  },
  {
   "cell_type": "markdown",
   "metadata": {},
   "source": [
    "### Moment of truths, will I graduate?"
   ]
  },
  {
   "cell_type": "code",
   "execution_count": null,
   "metadata": {},
   "outputs": [],
   "source": [
    "mydata = X_train[newvar].head(1).copy()\n",
    "mydata['Curricular units 2nd sem (approved)'] = 3\n",
    "mydata['Tuition fees up to date_0'] = False\n",
    "mydata['Curricular units 2nd sem (enrolled)'] = 3\n",
    "mydata['Curricular units 1st sem (approved)'] = 3\n",
    "mydata['Scholarship holder_0'] = True\n",
    "mydata['Debtor_0'] = True\n",
    "mydata['Curricular units 1st sem (enrolled)'] = 3\n",
    "mydata['Gender_0'] = False\n",
    "mydata['Course_9130'] = True\n",
    "\n",
    "cont_val = ['Curricular units 2nd sem (approved)','Curricular units 2nd sem (enrolled)','Curricular units 1st sem (approved)','Curricular units 1st sem (enrolled)']\n",
    "\n",
    "mydata[cont_val] = scale.fit_transform(mydata[cont_val])\n",
    "\n",
    "xgb_classifier2.predict(mydata)\n"
   ]
  },
  {
   "cell_type": "markdown",
   "metadata": {},
   "source": [
    "Yes!"
   ]
  }
 ],
 "metadata": {
  "kernelspec": {
   "display_name": "Python 3",
   "language": "python",
   "name": "python3"
  },
  "language_info": {
   "codemirror_mode": {
    "name": "ipython",
    "version": 3
   },
   "file_extension": ".py",
   "mimetype": "text/x-python",
   "name": "python",
   "nbconvert_exporter": "python",
   "pygments_lexer": "ipython3",
   "version": "3.8.18"
  }
 },
 "nbformat": 4,
 "nbformat_minor": 2
}
